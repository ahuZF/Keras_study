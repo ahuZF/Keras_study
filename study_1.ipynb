{
 "cells": [
  {
   "cell_type": "code",
   "execution_count": 66,
   "metadata": {},
   "outputs": [],
   "source": [
    "from __future__ import print_function\n",
    "import numpy as np\n",
    "np.random.seed(1337)"
   ]
  },
  {
   "cell_type": "markdown",
   "metadata": {},
   "source": [
    "## 序贯（Sequential）模型\n",
    "序贯模型是多个网络层的线性堆叠\n",
    "它可以通过想Sequential模型传递一个Layer的list来构造该模型"
   ]
  },
  {
   "cell_type": "code",
   "execution_count": 67,
   "metadata": {},
   "outputs": [],
   "source": [
    "from keras.datasets import mnist\n",
    "from keras.models import Sequential  \n",
    "from keras.layers.core import Dense,Dropout,Activation #网络结构\n",
    "from keras.optimizers import SGD,Adam,RMSprop  #最优化\n",
    "from keras.utils import np_utils\n",
    "\n"
   ]
  },
  {
   "cell_type": "code",
   "execution_count": 68,
   "metadata": {},
   "outputs": [],
   "source": [
    "from keras.utils.vis_utils import plot_model"
   ]
  },
  {
   "cell_type": "code",
   "execution_count": 69,
   "metadata": {},
   "outputs": [],
   "source": [
    "batch_size=100\n",
    "nb_classes=10\n",
    "nb_epoch=20"
   ]
  },
  {
   "cell_type": "code",
   "execution_count": 70,
   "metadata": {},
   "outputs": [
    {
     "name": "stdout",
     "output_type": "stream",
     "text": [
      "Extracting G:\\ANACONDA\\envs\\Tensorflow\\MNIST_data\\train-images-idx3-ubyte.gz\n",
      "Extracting G:\\ANACONDA\\envs\\Tensorflow\\MNIST_data\\train-labels-idx1-ubyte.gz\n",
      "Extracting G:\\ANACONDA\\envs\\Tensorflow\\MNIST_data\\t10k-images-idx3-ubyte.gz\n",
      "Extracting G:\\ANACONDA\\envs\\Tensorflow\\MNIST_data\\t10k-labels-idx1-ubyte.gz\n",
      "55000 train samples\n",
      "5000 validation samples\n",
      "10000 test samples\n"
     ]
    }
   ],
   "source": [
    "from tensorflow.examples.tutorials.mnist import input_data\n",
    "mnist = input_data.read_data_sets(\"G:\\\\ANACONDA\\\\envs\\\\Tensorflow\\\\MNIST_data\", one_hot=True)\n",
    " \n",
    "X_train, y_train = mnist.train.images,mnist.train.labels\n",
    "X_test, y_test = mnist.test.images, mnist.test.labels\n",
    "X_var,y_var= mnist.validation.images, mnist.validation.labels\n",
    "X_train = X_train.reshape(55000, 784)\n",
    "X_var=X_var.reshape(5000,784)\n",
    "X_test = X_test.reshape(10000, 784)\n",
    "X_train = X_train.astype('float32')\n",
    "X_test = X_test.astype('float32')\n",
    "X_train /= 255  ### 归一化到0~1\n",
    "X_test /= 255\n",
    "print(X_train.shape[0], 'train samples')\n",
    "print(X_var.shape[0], 'validation samples')\n",
    "print(X_test.shape[0], 'test samples')"
   ]
  },
  {
   "cell_type": "raw",
   "metadata": {},
   "source": [
    "# 将标签转变为向量\n",
    "from keras.utils.np_utils import *\n",
    "#类别向量定义\n",
    "b = [0,1,2,3,4,5,6,7,8]\n",
    "#调用to_categorical将b按照9个类别来进行转换\n",
    "b = to_categorical(b, 9)\n",
    "print(b)\n",
    " \n",
    "执行结果如下：\n",
    "[[1. 0. 0. 0. 0. 0. 0. 0. 0.]\n",
    " [0. 1. 0. 0. 0. 0. 0. 0. 0.]\n",
    " [0. 0. 1. 0. 0. 0. 0. 0. 0.]\n",
    " [0. 0. 0. 1. 0. 0. 0. 0. 0.]\n",
    " [0. 0. 0. 0. 1. 0. 0. 0. 0.]\n",
    " [0. 0. 0. 0. 0. 1. 0. 0. 0.]\n",
    " [0. 0. 0. 0. 0. 0. 1. 0. 0.]\n",
    " [0. 0. 0. 0. 0. 0. 0. 1. 0.]\n",
    " [0. 0. 0. 0. 0. 0. 0. 0. 1.]]"
   ]
  },
  {
   "cell_type": "code",
   "execution_count": 71,
   "metadata": {},
   "outputs": [
    {
     "name": "stdout",
     "output_type": "stream",
     "text": [
      "(55000, 10)\n"
     ]
    }
   ],
   "source": [
    "## 转换类标号 如果定义的标签是np的形式可以用这个\n",
    "#Y_train=np_utils.to_categorical(y_train,nb_classes)\n",
    "#Y_test=np_utils.to_categorical(y_test,nb_classes)\n",
    "print(y_train.shape)"
   ]
  },
  {
   "cell_type": "code",
   "execution_count": 72,
   "metadata": {},
   "outputs": [],
   "source": [
    "###    建立模型\n",
    "#keras.layers.core.Dense(units, activation=None, use_bias=True, kernel_initializer='glorot_uniform', bias_initializer='zeros', kernel_regularizer=None, bias_regularizer=None, activity_regularizer=None, kernel_constraint=None, bias_constraint=None)\n",
    "model=Sequential()\n",
    "model.add(Dense(512,input_shape=(784,))) #全连接\n",
    "# now the model will take as input arrays of shape (*, 784)\n",
    "# and output arrays of shape (*, 512)\n",
    "\n",
    "# after the first layer, you don't need to specify \n",
    "# the size of the input anymore:\n",
    "model.add(Activation('relu'))\n",
    "model.add(Dropout(0.2)) \n",
    "model.add(Dense(512))\n",
    "model.add(Activation('relu'))\n",
    "model.add(Dropout(0.2))\n",
    "model.add(Dense(10))\n",
    "model.add(Activation('softmax'))##softmax→概率"
   ]
  },
  {
   "cell_type": "code",
   "execution_count": 73,
   "metadata": {},
   "outputs": [
    {
     "name": "stdout",
     "output_type": "stream",
     "text": [
      "_________________________________________________________________\n",
      "Layer (type)                 Output Shape              Param #   \n",
      "=================================================================\n",
      "dense_13 (Dense)             (None, 512)               401920    \n",
      "_________________________________________________________________\n",
      "activation_13 (Activation)   (None, 512)               0         \n",
      "_________________________________________________________________\n",
      "dropout_9 (Dropout)          (None, 512)               0         \n",
      "_________________________________________________________________\n",
      "dense_14 (Dense)             (None, 512)               262656    \n",
      "_________________________________________________________________\n",
      "activation_14 (Activation)   (None, 512)               0         \n",
      "_________________________________________________________________\n",
      "dropout_10 (Dropout)         (None, 512)               0         \n",
      "_________________________________________________________________\n",
      "dense_15 (Dense)             (None, 10)                5130      \n",
      "_________________________________________________________________\n",
      "activation_15 (Activation)   (None, 10)                0         \n",
      "=================================================================\n",
      "Total params: 669,706\n",
      "Trainable params: 669,706\n",
      "Non-trainable params: 0\n",
      "_________________________________________________________________\n"
     ]
    }
   ],
   "source": [
    "model.summary()   ## 打印模型"
   ]
  },
  {
   "cell_type": "code",
   "execution_count": 74,
   "metadata": {},
   "outputs": [],
   "source": [
    "plot_model(model, to_file='model.png')"
   ]
  },
  {
   "cell_type": "code",
   "execution_count": 75,
   "metadata": {},
   "outputs": [
    {
     "data": {
      "image/png": "[encoded data removed]",
      "text/plain": [
       "<Figure size 432x288 with 1 Axes>"
      ]
     },
     "metadata": {
      "needs_background": "light"
     },
     "output_type": "display_data"
    }
   ],
   "source": [
    "### 显示\n",
    "import matplotlib.pyplot as plt # plt 用于显示图片\n",
    "import matplotlib.image as mpimg # mpimg 用于读取图片\n",
    "\n",
    "model_str = mpimg.imread(r'C:\\Users\\123\\Desktop\\Keras_study\\model.png') # 读取和代码处于同一目录下的 lena.png\n",
    "# 此时 lena 就已经是一个 np.array 了，可以对它进行任意处理\n",
    "plt.imshow(model_str) # 显示图片\n",
    "plt.axis('off') # 不显示坐标轴\n",
    "plt.show()"
   ]
  },
  {
   "cell_type": "code",
   "execution_count": 76,
   "metadata": {},
   "outputs": [],
   "source": [
    "### 编译模型 损失、最优\n",
    "model.compile(loss='categorical_crossentropy',\n",
    "              optimizer=RMSprop(),\n",
    "              metrics=['accuracy']\n",
    "             )"
   ]
  },
  {
   "cell_type": "code",
   "execution_count": 77,
   "metadata": {},
   "outputs": [
    {
     "name": "stderr",
     "output_type": "stream",
     "text": [
      "G:\\ANACONDA\\envs\\Tensorflow\\lib\\site-packages\\ipykernel_launcher.py:6: UserWarning: The `nb_epoch` argument in `fit` has been renamed `epochs`.\n",
      "  \n"
     ]
    },
    {
     "name": "stdout",
     "output_type": "stream",
     "text": [
      "Train on 55000 samples, validate on 5000 samples\n",
      "Epoch 1/20\n",
      "55000/55000 [==============================] - 10s 174us/step - loss: 0.8272 - acc: 0.7449 - val_loss: 3.8954 - val_acc: 0.7496\n",
      "Epoch 2/20\n",
      "55000/55000 [==============================] - 9s 164us/step - loss: 0.3581 - acc: 0.8929 - val_loss: 2.2730 - val_acc: 0.8552\n",
      "Epoch 3/20\n",
      "55000/55000 [==============================] - 9s 167us/step - loss: 0.2735 - acc: 0.9176 - val_loss: 1.4997 - val_acc: 0.9044\n",
      "Epoch 4/20\n",
      "55000/55000 [==============================] - 9s 165us/step - loss: 0.2191 - acc: 0.9340 - val_loss: 1.1926 - val_acc: 0.9244\n",
      "Epoch 5/20\n",
      "55000/55000 [==============================] - 9s 164us/step - loss: 0.1792 - acc: 0.9459 - val_loss: 0.8749 - val_acc: 0.9448\n",
      "Epoch 6/20\n",
      "55000/55000 [==============================] - 9s 165us/step - loss: 0.1521 - acc: 0.9544 - val_loss: 0.7187 - val_acc: 0.9546\n",
      "Epoch 7/20\n",
      "55000/55000 [==============================] - 9s 163us/step - loss: 0.1346 - acc: 0.9596 - val_loss: 0.6386 - val_acc: 0.9596\n",
      "Epoch 8/20\n",
      "55000/55000 [==============================] - 9s 166us/step - loss: 0.1207 - acc: 0.9630 - val_loss: 0.6431 - val_acc: 0.9594\n",
      "Epoch 9/20\n",
      "55000/55000 [==============================] - 9s 162us/step - loss: 0.1079 - acc: 0.9677 - val_loss: 0.5449 - val_acc: 0.9662\n",
      "Epoch 10/20\n",
      "55000/55000 [==============================] - 9s 167us/step - loss: 0.0986 - acc: 0.9706 - val_loss: 0.6194 - val_acc: 0.9610\n",
      "Epoch 11/20\n",
      "55000/55000 [==============================] - 10s 180us/step - loss: 0.0914 - acc: 0.9721 - val_loss: 0.5666 - val_acc: 0.9640\n",
      "Epoch 12/20\n",
      "55000/55000 [==============================] - 10s 190us/step - loss: 0.0846 - acc: 0.9750 - val_loss: 0.5491 - val_acc: 0.9658\n",
      "Epoch 13/20\n",
      "55000/55000 [==============================] - 10s 182us/step - loss: 0.0802 - acc: 0.9760 - val_loss: 0.5642 - val_acc: 0.9646\n",
      "Epoch 14/20\n",
      "55000/55000 [==============================] - 9s 170us/step - loss: 0.0748 - acc: 0.9771 - val_loss: 0.5727 - val_acc: 0.9642\n",
      "Epoch 15/20\n",
      "55000/55000 [==============================] - 10s 178us/step - loss: 0.0718 - acc: 0.9777 - val_loss: 0.6269 - val_acc: 0.9610\n",
      "Epoch 16/20\n",
      "55000/55000 [==============================] - 9s 171us/step - loss: 0.0661 - acc: 0.9805 - val_loss: 0.5972 - val_acc: 0.9624\n",
      "Epoch 17/20\n",
      "55000/55000 [==============================] - 10s 176us/step - loss: 0.0628 - acc: 0.9807 - val_loss: 0.6376 - val_acc: 0.9600\n",
      "Epoch 18/20\n",
      "55000/55000 [==============================] - 10s 176us/step - loss: 0.0591 - acc: 0.9829 - val_loss: 0.6369 - val_acc: 0.9602\n",
      "Epoch 19/20\n",
      "55000/55000 [==============================] - 9s 170us/step - loss: 0.0587 - acc: 0.9820 - val_loss: 0.6518 - val_acc: 0.9592\n",
      "Epoch 20/20\n",
      "55000/55000 [==============================] - 10s 176us/step - loss: 0.0544 - acc: 0.9834 - val_loss: 0.6264 - val_acc: 0.9610\n"
     ]
    }
   ],
   "source": [
    "### 训练模型\n",
    "history=model.fit(X_train,y_train,\n",
    "                  batch_size=batch_size,\n",
    "                  nb_epoch=nb_epoch,\n",
    "                  verbose=1,\n",
    "                  validation_data=(X_var,y_var))"
   ]
  },
  {
   "cell_type": "code",
   "execution_count": 79,
   "metadata": {},
   "outputs": [
    {
     "name": "stdout",
     "output_type": "stream",
     "text": [
      "Test score 0.0826880748363823\n",
      "Test accuracy 0.9782\n"
     ]
    }
   ],
   "source": [
    "### 模型评估\n",
    "score=model.evaluate(X_test,y_test,verbose=0)\n",
    "print('Test score',score[0]) # 损失\n",
    "print('Test accuracy',score[1])# 正确"
   ]
  },
  {
   "cell_type": "raw",
   "metadata": {},
   "source": [
    "## 模型保存\n",
    "model.save('mnist-mpl.h5')"
   ]
  },
  {
   "cell_type": "code",
   "execution_count": 80,
   "metadata": {},
   "outputs": [],
   "source": [
    "model.save('mnist-mpl.h5')"
   ]
  },
  {
   "cell_type": "code",
   "execution_count": null,
   "metadata": {},
   "outputs": [],
   "source": []
  }
 ],
 "metadata": {
  "kernelspec": {
   "display_name": "Python 3",
   "language": "python",
   "name": "python3"
  },
  "language_info": {
   "codemirror_mode": {
    "name": "ipython",
    "version": 3
   },
   "file_extension": ".py",
   "mimetype": "text/x-python",
   "name": "python",
   "nbconvert_exporter": "python",
   "pygments_lexer": "ipython3",
   "version": "3.6.10"
  }
 },
 "nbformat": 4,
 "nbformat_minor": 4
}
