{
 "cells": [
  {
   "cell_type": "code",
   "execution_count": null,
   "metadata": {},
   "outputs": [],
   "source": [
    "from __future__ import print_function\n",
    "import numpy as np\n",
    "np.random.seed(1337)  # for reproducibility\n",
    "\n",
    "from keras.models import Sequential\n",
    "from keras.layers import Dense, Dropout, Activation, Flatten\n",
    "from keras.layers import Convolution2D, MaxPooling2D\n",
    "from keras.utils import np_utils\n",
    "from keras import backend as K"
   ]
  },
  {
   "cell_type": "raw",
   "metadata": {},
   "source": [
    "### Flatter层多维转一维,从卷积层到全连接层的过渡\n",
    "model = Sequential()\n",
    "model.add(Convolution2D(64, 3, 3,border_mode='same',input_shape=(3, 32, 32)))\n",
    "# now: model.output_shape == (None, 64, 32, 32)\n",
    "\n",
    "model.add(Flatten())\n",
    "# now: model.output_shape == (None, 65536)"
   ]
  },
  {
   "cell_type": "raw",
   "metadata": {},
   "source": [
    "### backend 转成后端如tensorflow的函数来操作\n",
    "from keras import backend as K\n",
    "\n",
    "下面的代码实例化了一个输入占位符，等价于tf.placeholder() ，T.matrix()，T.tensor3()等\n",
    "\n",
    "input = K.placeholder(shape=(2, 4, 5))\n",
    "# also works:\n",
    "input = K.placeholder(shape=(None, 4, 5))\n",
    "# also works:\n",
    "input = K.placeholder(ndim=3)"
   ]
  },
  {
   "cell_type": "code",
   "execution_count": null,
   "metadata": {},
   "outputs": [],
   "source": [
    "batch_size=100\n",
    "nb_classes=10\n",
    "nb_epoch=10\n",
    "\n",
    "img_rows,img_cols=28,28\n",
    "nb_filters=32\n",
    "pool_size=(2,2)\n",
    "kernel_size=(3,3)\n",
    "print(kernel_size[0])"
   ]
  },
  {
   "cell_type": "code",
   "execution_count": null,
   "metadata": {},
   "outputs": [],
   "source": [
    "from tensorflow.examples.tutorials.mnist import input_data\n",
    "mnist = input_data.read_data_sets(\"G:\\\\ANACONDA\\\\envs\\\\Tensorflow\\\\MNIST_data\", one_hot=True)\n",
    " \n",
    "X_train, y_train = mnist.train.images,mnist.train.labels\n",
    "X_test, y_test = mnist.test.images, mnist.test.labels\n",
    "X_var,y_var= mnist.validation.images, mnist.validation.labels\n",
    "X_train=X_train.reshape(55000,28,28,1)\n",
    "X_var=X_var.reshape(5000,28,28,1)\n",
    "X_test=X_test.reshape(10000,28,28,1)\n",
    "\n",
    "X_train /= 255\n",
    "X_var /= 255\n",
    "X_test /= 255\n",
    "print('X_train shape:', X_train.shape)\n",
    "print(X_train.shape[0], 'train samples')\n",
    "print(X_test.shape[0], 'test samples')\n",
    "print(X_var.shape[0], 'var samples')\n",
    "\n",
    "print(y_var.shape)\n",
    "input_shape=(28,28,1)"
   ]
  },
  {
   "cell_type": "code",
   "execution_count": null,
   "metadata": {},
   "outputs": [],
   "source": [
    "model=Sequential()\n",
    "model.add(Convolution2D(nb_filters,kernel_size[0],kernel_size[1],border_mode='valid',input_shape=input_shape))\n",
    "model.add(Activation('relu'))\n",
    "model.add(Convolution2D(nb_filters, kernel_size[0], kernel_size[1]))\n",
    "model.add(Activation('relu'))\n",
    "model.add(MaxPooling2D(pool_size=pool_size))\n",
    "model.add(Dropout(0.25))\n",
    "\n",
    "model.add(Flatten())\n",
    "model.add(Dense(128))\n",
    "model.add(Activation('relu'))\n",
    "model.add(Dropout(0.5))\n",
    "model.add(Dense(nb_classes))\n",
    "model.add(Activation('softmax'))"
   ]
  },
  {
   "cell_type": "code",
   "execution_count": null,
   "metadata": {},
   "outputs": [],
   "source": [
    "model.summary()"
   ]
  },
  {
   "cell_type": "code",
   "execution_count": null,
   "metadata": {},
   "outputs": [],
   "source": [
    "from keras.utils.vis_utils import plot_model\n",
    "plot_model(model, to_file='model-cnn.png')"
   ]
  },
  {
   "cell_type": "code",
   "execution_count": null,
   "metadata": {},
   "outputs": [],
   "source": [
    "'''def cro_loss(y_true, y_pred):\n",
    "    correct_prediction = K.equal(K.argmax(y_true,1), K.argmax(y_pred,1))\n",
    "    acc = K.mean(K.cast(correct_prediction,K.floatx()))\n",
    "    return acc'''"
   ]
  },
  {
   "cell_type": "code",
   "execution_count": null,
   "metadata": {},
   "outputs": [],
   "source": [
    "from keras.optimizers import Adam\n",
    "\n",
    "Adam=Adam(lr=0.001, beta_1=0.9, beta_2=0.999, epsilon=1e-08）\n",
    "model.compile(loss='categorical_crossentropy',\n",
    "             optimizer='Adam',\n",
    "             metrics=['accuracy'])"
   ]
  },
  {
   "cell_type": "code",
   "execution_count": null,
   "metadata": {},
   "outputs": [],
   "source": [
    "model.fit(X_train,y_train,batch_size=batch_size, \n",
    "          nb_epoch=nb_epoch,\n",
    "          verbose=1, \n",
    "          validation_data=(X_var, y_var))"
   ]
  },
  {
   "cell_type": "code",
   "execution_count": null,
   "metadata": {},
   "outputs": [],
   "source": []
  }
 ],
 "metadata": {
  "kernelspec": {
   "display_name": "Python 3",
   "language": "python",
   "name": "python3"
  },
  "language_info": {
   "codemirror_mode": {
    "name": "ipython",
    "version": 3
   },
   "file_extension": ".py",
   "mimetype": "text/x-python",
   "name": "python",
   "nbconvert_exporter": "python",
   "pygments_lexer": "ipython3",
   "version": "3.6.10"
  }
 },
 "nbformat": 4,
 "nbformat_minor": 4
}
